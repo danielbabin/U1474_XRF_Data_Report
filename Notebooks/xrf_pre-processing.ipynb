{
 "cells": [
  {
   "cell_type": "markdown",
   "metadata": {},
   "source": [
    "# XRF Data-Preprocessing\n",
    "In this notebook, we are:<br>\n",
    "   1) performing a running sum on the spectra from the raw XRF data to increase the signal to noise ratio <br>\n",
    "   2) exporting it so that it can be re-reduced in Q-Spec<br>\n",
    "   3) reimporting it and putting XRF measurements on a depth scale and selecting only the splice intervals<br>\n",
    "   4) dropping a few extreme outliers from the results"
   ]
  },
  {
   "cell_type": "markdown",
   "metadata": {},
   "source": [
    "# Import Packages"
   ]
  },
  {
   "cell_type": "code",
   "execution_count": 4,
   "metadata": {},
   "outputs": [],
   "source": [
    "import pandas as pd\n",
    "import numpy as np\n",
    "import matplotlib.pyplot as plt\n",
    "from os import listdir\n",
    "import os\n",
    "import shutil"
   ]
  },
  {
   "cell_type": "markdown",
   "metadata": {},
   "source": [
    "# Set Paths for Cores\n",
    "The 10 GB of raw data are located on an external hardrive, this link will not work on github."
   ]
  },
  {
   "cell_type": "code",
   "execution_count": 88,
   "metadata": {},
   "outputs": [],
   "source": [
    "U1474='/Users/danielbabin/Documents/GitHub/U1474_XRF_Data_Report/Data/EXP361-U1474/'"
   ]
  },
  {
   "cell_type": "markdown",
   "metadata": {},
   "source": [
    "# Get Core Names\n",
    "I'll need to link to a directory in each core's file that has the raw spectra files"
   ]
  },
  {
   "cell_type": "code",
   "execution_count": 95,
   "metadata": {},
   "outputs": [],
   "source": [
    "U1474_sections=listdir(U1474)\n",
    "U1474_sections.sort()\n",
    "U1474_sections=U1474_sections[1:]"
   ]
  },
  {
   "cell_type": "markdown",
   "metadata": {},
   "source": [
    "# Pre-Process Data\n",
    "The steps for each core section (213 in all):<br>\n",
    "1) Load all files in the section's directory as dataframes into a dictionary. <br>\n",
    "2) Turn that dictionary into a single dataframe, where each column is one of the spectra. <br>\n",
    "3) Do a 10-pt running sum of those spectra and selected every 10th one. This turns 10 spectra into one taller one. <br>\n",
    "4) Turn that dataframe back into a a dictionary and a csv that Qspec can read.<br>\n",
    "5) Write the resulting file into a directory on the external hardrive called 'New XRF Data\"<br>\n",
    "## U1474"
   ]
  },
  {
   "cell_type": "code",
   "execution_count": 89,
   "metadata": {},
   "outputs": [
    {
     "ename": "FileExistsError",
     "evalue": "[Errno 17] File exists: '/Users/danielbabin/Documents/GitHub/U1474_XRF_Data_Report/Data/New_XRF_Data/'",
     "output_type": "error",
     "traceback": [
      "\u001b[0;31m--------------------------------------------------------------------------\u001b[0m",
      "\u001b[0;31mFileExistsError\u001b[0m                          Traceback (most recent call last)",
      "\u001b[0;32m<ipython-input-89-aa755461100f>\u001b[0m in \u001b[0;36m<module>\u001b[0;34m()\u001b[0m\n\u001b[1;32m      1\u001b[0m \u001b[0mall_results_path\u001b[0m\u001b[0;34m=\u001b[0m\u001b[0;34m'/Users/danielbabin/Documents/GitHub/U1474_XRF_Data_Report/Data/New_XRF_Data/'\u001b[0m\u001b[0;34m\u001b[0m\u001b[0m\n\u001b[0;32m----> 2\u001b[0;31m \u001b[0mos\u001b[0m\u001b[0;34m.\u001b[0m\u001b[0mmkdir\u001b[0m\u001b[0;34m(\u001b[0m\u001b[0mall_results_path\u001b[0m\u001b[0;34m)\u001b[0m\u001b[0;34m\u001b[0m\u001b[0m\n\u001b[0m",
      "\u001b[0;31mFileExistsError\u001b[0m: [Errno 17] File exists: '/Users/danielbabin/Documents/GitHub/U1474_XRF_Data_Report/Data/New_XRF_Data/'"
     ]
    }
   ],
   "source": [
    "all_results_path='/Users/danielbabin/Documents/GitHub/U1474_XRF_Data_Report/Data/New_XRF_Data/'\n",
    "os.mkdir(all_results_path)"
   ]
  },
  {
   "cell_type": "code",
   "execution_count": 96,
   "metadata": {},
   "outputs": [],
   "source": [
    "for section in U1474_sections: \n",
    "    core=U1474+section+'/XRF data/'\n",
    "\n",
    "    files=listdir(core)\n",
    "\n",
    "    dct={}\n",
    "    for file in files[:-1]:\n",
    "        dct[file]=pd.read_csv(core+file,sep='\\t',index_col='Date:')\n",
    "\n",
    "    df=pd.DataFrame()\n",
    "    for k in dct.keys():\n",
    "        df[k]=dct[k].iloc[30:,0].astype(int)\n",
    "\n",
    "    cleaned=df.loc[:,(df.sum()>300000)&(df.sum()<1000000)]\n",
    "\n",
    "    sumspectra=cleaned.sum(axis=1)\n",
    "    ss_product=dct['L000000.spe']\n",
    "    ss_product.iloc[30:,0]=sumspectra\n",
    "\n",
    "    ss_path='/Users/danielbabin/Documents/GitHub/U1474_XRF_Data_Report/Data/EXP361-U1474/'+section\n",
    "    ss_product.to_csv(ss_path+'/sumspectra.spe',sep='\\t')\n",
    "\n",
    "    run_summed=cleaned.rolling(10,center=True,axis=1).sum()\n",
    "\n",
    "    selected=run_summed.iloc[:,5:-5:10]\n",
    "\n",
    "    product_dict={}\n",
    "    for i in selected.columns.to_list():\n",
    "        product_dict[i]=dct[i]\n",
    "        product_dict[i].iloc[30:,0]=selected[i]\n",
    "\n",
    "    for key in product_dict:\n",
    "        product_dict[key].to_csv(all_results_path+section+'-'+key,sep='\\t')"
   ]
  },
  {
   "cell_type": "markdown",
   "metadata": {},
   "source": [
    "### Exception Sections"
   ]
  },
  {
   "cell_type": "code",
   "execution_count": 206,
   "metadata": {},
   "outputs": [],
   "source": [
    "for i in [18,54,82,83]: \n",
    "    section=U1474_sections[i]\n",
    "    file_path='/Volumes/DPBABIN/EXP361-U1474/'+section+'/New XRF data/'\n",
    "    shutil.rmtree(file_path)"
   ]
  },
  {
   "cell_type": "markdown",
   "metadata": {},
   "source": [
    "#### D4H1"
   ]
  },
  {
   "cell_type": "code",
   "execution_count": 99,
   "metadata": {},
   "outputs": [],
   "source": [
    "# for i in [18,54,82,83]: \n",
    "i=18\n",
    "section=U1474_sections[i]\n",
    "core=U1474+section+'/XRF data/'\n",
    "\n",
    "core='/Users/danielbabin/Documents/GitHub/U1474_XRF_Data_Report/Data/U1474D_4H1/XRF data/'\n",
    "\n",
    "files=listdir(core)\n",
    "\n",
    "dct={}\n",
    "for file in files[:-1]:\n",
    "    dct[file]=pd.read_csv(core+file,sep='\\t',index_col='Date:')\n",
    "\n",
    "df=pd.DataFrame()\n",
    "for k in dct.keys():\n",
    "    df[k]=dct[k].iloc[30:,0].astype(int)\n",
    "\n",
    "cleaned=df.loc[:,(df.sum()>60000)]\n",
    "cleaned=cleaned[sorted(cleaned.columns.to_list())]\n",
    "\n",
    "sumspectra=cleaned.sum(axis=1)\n",
    "ss_product=dct['L000000.spe']\n",
    "ss_product.iloc[30:,0]=sumspectra\n",
    "\n",
    "# ss_path='/Volumes/DPBABIN/EXP361-U1474/'+section\n",
    "# ss_product.to_csv(ss_path+'/new_sumspectra.spe',sep='\\t')\n",
    "\n",
    "ss_path='/Users/danielbabin/Documents/GitHub/U1474_XRF_Data_Report/Data/EXP361-U1474/'+section\n",
    "ss_product.to_csv(ss_path+'/sumspectra.spe',sep='\\t')\n",
    "\n",
    "run_summed=cleaned.rolling(10,center=True,axis=1).sum()\n",
    "\n",
    "selected=run_summed.iloc[:,5:-5:10]\n",
    "\n",
    "product_dict={}\n",
    "for i in selected.columns.to_list():\n",
    "    product_dict[i]=dct[i]\n",
    "    product_dict[i].iloc[30:,0]=selected[i]\n",
    "\n",
    "# section='019_U1474D_4H1'\n",
    "# for key in product_dict:\n",
    "#     product_dict[key].to_csv(results_path+section+'-'+key,sep='\\t')\n",
    "\n",
    "for key in product_dict:\n",
    "    product_dict[key].to_csv(all_results_path+section+'-'+key,sep='\\t')"
   ]
  },
  {
   "cell_type": "markdown",
   "metadata": {},
   "source": [
    "#### D8H3"
   ]
  },
  {
   "cell_type": "code",
   "execution_count": 101,
   "metadata": {},
   "outputs": [],
   "source": [
    "# for i in [18,54,82,83]: \n",
    "i=54\n",
    "section=U1474_sections[i]\n",
    "core=U1474+section+'/XRF data/'\n",
    "\n",
    "files=listdir(core)\n",
    "\n",
    "dct={}\n",
    "for file in files[:-1]:\n",
    "    dct[file]=pd.read_csv(core+file,sep='\\t',index_col='Date:')\n",
    "\n",
    "df=pd.DataFrame()\n",
    "for k in dct.keys():\n",
    "    df[k]=dct[k].iloc[30:,0].astype(int)\n",
    "\n",
    "cleaned=df.loc[:,(df.sum()>260000)]\n",
    "\n",
    "sumspectra=cleaned.sum(axis=1)\n",
    "ss_product=dct['L000000.spe']\n",
    "ss_product.iloc[30:,0]=sumspectra\n",
    "\n",
    "ss_path='/Users/danielbabin/Documents/GitHub/U1474_XRF_Data_Report/Data/EXP361-U1474/'+section\n",
    "ss_product.to_csv(ss_path+'/sumspectra.spe',sep='\\t')\n",
    "\n",
    "run_summed=cleaned.rolling(10,center=True,axis=1).sum()\n",
    "\n",
    "selected=run_summed.iloc[:,5:-5:10]\n",
    "\n",
    "product_dict={}\n",
    "for i in selected.columns.to_list():\n",
    "    product_dict[i]=dct[i]\n",
    "    product_dict[i].iloc[30:,0]=selected[i]\n",
    "\n",
    "for key in product_dict:\n",
    "    product_dict[key].to_csv(all_results_path+section+'-'+key,sep='\\t')"
   ]
  },
  {
   "cell_type": "markdown",
   "metadata": {},
   "source": [
    "#### D11H4"
   ]
  },
  {
   "cell_type": "code",
   "execution_count": 102,
   "metadata": {},
   "outputs": [],
   "source": [
    "# for i in [18,54,82,83]: \n",
    "i=82\n",
    "section=U1474_sections[i]\n",
    "core=U1474+section+'/XRF data/'\n",
    "\n",
    "files=listdir(core)\n",
    "\n",
    "dct={}\n",
    "for file in files[:-1]:\n",
    "    dct[file]=pd.read_csv(core+file,sep='\\t',index_col='Date:')\n",
    "\n",
    "df=pd.DataFrame()\n",
    "for k in dct.keys():\n",
    "    df[k]=dct[k].iloc[30:,0].astype(int)\n",
    "\n",
    "cleaned=df.loc[:,(df.sum()>270000)]\n",
    "\n",
    "sumspectra=cleaned.sum(axis=1)\n",
    "ss_product=dct['L000000.spe']\n",
    "ss_product.iloc[30:,0]=sumspectra\n",
    "\n",
    "ss_path='/Users/danielbabin/Documents/GitHub/U1474_XRF_Data_Report/Data/EXP361-U1474/'+section\n",
    "ss_product.to_csv(ss_path+'/sumspectra.spe',sep='\\t')\n",
    "\n",
    "run_summed=cleaned.rolling(10,center=True,axis=1).sum()\n",
    "\n",
    "selected=run_summed.iloc[:,5:-5:10]\n",
    "\n",
    "product_dict={}\n",
    "for i in selected.columns.to_list():\n",
    "    product_dict[i]=dct[i]\n",
    "    product_dict[i].iloc[30:,0]=selected[i]\n",
    "\n",
    "for key in product_dict:\n",
    "    product_dict[key].to_csv(all_results_path+section+'-'+key,sep='\\t')"
   ]
  },
  {
   "cell_type": "markdown",
   "metadata": {},
   "source": [
    "#### D11H5"
   ]
  },
  {
   "cell_type": "code",
   "execution_count": 103,
   "metadata": {},
   "outputs": [],
   "source": [
    "# for i in [18,54,82,83]: \n",
    "i=83\n",
    "section=U1474_sections[i]\n",
    "core=U1474+section+'/XRF data/'\n",
    "\n",
    "files=listdir(core)\n",
    "\n",
    "dct={}\n",
    "for file in files[:-1]:\n",
    "    dct[file]=pd.read_csv(core+file,sep='\\t',index_col='Date:')\n",
    "\n",
    "df=pd.DataFrame()\n",
    "for k in dct.keys():\n",
    "    df[k]=dct[k].iloc[30:,0].astype(int)\n",
    "\n",
    "cleaned=df.loc[:,(df.sum()>120000)]\n",
    "\n",
    "sumspectra=cleaned.sum(axis=1)\n",
    "ss_product=dct['L000000.spe']\n",
    "ss_product.iloc[30:,0]=sumspectra\n",
    "\n",
    "ss_path='/Users/danielbabin/Documents/GitHub/U1474_XRF_Data_Report/Data/EXP361-U1474/'+section\n",
    "ss_product.to_csv(ss_path+'/sumspectra.spe',sep='\\t')\n",
    "\n",
    "run_summed=cleaned.rolling(10,center=True,axis=1).sum()\n",
    "\n",
    "selected=run_summed.iloc[:,5:-5:10]\n",
    "\n",
    "product_dict={}\n",
    "for i in selected.columns.to_list():\n",
    "    product_dict[i]=dct[i]\n",
    "    product_dict[i].iloc[30:,0]=selected[i]\n",
    "\n",
    "for key in product_dict:\n",
    "    product_dict[key].to_csv(all_results_path+section+'-'+key,sep='\\t')"
   ]
  },
  {
   "cell_type": "markdown",
   "metadata": {},
   "source": [
    "### Super-Sum Spectra"
   ]
  },
  {
   "cell_type": "code",
   "execution_count": 104,
   "metadata": {},
   "outputs": [],
   "source": [
    "dct={}\n",
    "for section in U1474_sections: \n",
    "    file=U1474+section+'/sumspectra.spe'\n",
    "\n",
    "    dct[section]=pd.read_csv(file,sep='\\t',index_col='Date:')\n",
    "\n",
    "df=pd.DataFrame()\n",
    "for k in dct.keys():\n",
    "    df[k]=dct[k].iloc[30:,0].astype(float)\n",
    "    \n",
    "dfsum=df.sum(axis=1)/213\n",
    "\n",
    "product=dct['000_U1474F_1H1']\n",
    "product.iloc[30:,0]=dfsum\n",
    "\n",
    "results_path='/Users/danielbabin/Documents/GitHub/U1474_XRF_Data_Report/Data/EXP361-U1474/'\n",
    "product.to_csv(results_path+'sumsumspectra.spe',sep='\\t')"
   ]
  },
  {
   "cell_type": "markdown",
   "metadata": {},
   "source": [
    "## U1478"
   ]
  },
  {
   "cell_type": "code",
   "execution_count": 284,
   "metadata": {},
   "outputs": [],
   "source": [
    "for section in U1478_sections: \n",
    "    core=U1478+section+'/XRF data/'\n",
    "\n",
    "    files=listdir(core)\n",
    "\n",
    "    dct={}\n",
    "    for file in files:\n",
    "        dct[file]=pd.read_csv(core+file,sep='\\t',index_col='Date:')\n",
    "\n",
    "    df=pd.DataFrame()\n",
    "    for k in dct.keys():\n",
    "        df[k]=dct[k].iloc[30:,0]\n",
    "\n",
    "    summed=df.rolling(10,center=True,axis=1).sum()\n",
    "\n",
    "    selected=summed.iloc[:,5:-5:10]\n",
    "\n",
    "    product_dict={}\n",
    "    for i in selected.columns.to_list():\n",
    "        product_dict[i]=dct[i]\n",
    "        product_dict[i].iloc[30:,0]=selected[i]\n",
    "\n",
    "    results_path='/Volumes/DPBABIN/EXP361-U1478/'+section+'/New XRF data/'\n",
    "    os.mkdir(results_path)\n",
    "\n",
    "    for key in product_dict:\n",
    "        product_dict[key].to_csv(results_path+key,sep='\\t')"
   ]
  },
  {
   "cell_type": "markdown",
   "metadata": {},
   "source": [
    "# Re-Reduction of Data in Q-Spec\n",
    "The next step was to take these files and Q-spec to turn these spectra into peak areas and elemental intensities. The next figure compares the raw 2 second, 2 mm exposure with the integrated 2 second 2 cm exposure."
   ]
  },
  {
   "cell_type": "code",
   "execution_count": 1347,
   "metadata": {},
   "outputs": [],
   "source": [
    "core=U1474+section+'/XRF data/'\n",
    "files=listdir(core)\n",
    "dct={}\n",
    "for file in files[:-1]:\n",
    "    dct[file]=pd.read_csv(core+file,sep='\\t',index_col='Date:')\n",
    "df=pd.DataFrame()\n",
    "for k in dct.keys():\n",
    "    df[k]=dct[k].iloc[30:,0]\n",
    "summed=df.rolling(10,center=True,axis=1).sum()\n",
    "selected=summed.iloc[:,5:-5:10]"
   ]
  },
  {
   "cell_type": "markdown",
   "metadata": {},
   "source": [
    "## Results"
   ]
  },
  {
   "cell_type": "code",
   "execution_count": 35,
   "metadata": {},
   "outputs": [],
   "source": [
    "figure_path='/Users/danielbabin/Documents/GitHub/U1474_XRF_Data_Report/Figures/'"
   ]
  },
  {
   "cell_type": "code",
   "execution_count": 1360,
   "metadata": {},
   "outputs": [
    {
     "data": {
      "image/png": "[encoded data removed]",
      "text/plain": [
       "<Figure size 432x288 with 1 Axes>"
      ]
     },
     "metadata": {},
     "output_type": "display_data"
    }
   ],
   "source": [
    "fig,ax=plt.subplots()\n",
    "df['L000005.spe'].astype(int).plot(ax=ax)\n",
    "summed['L000005.spe'].astype(int).plot(ax=ax)\n",
    "ax.set_yscale('log')\n",
    "ax.set_ylabel('Intensity (cps)')\n",
    "ax.set_xlabel('Energy (keV)')\n",
    "plt.tight_layout()\n",
    "fig.savefig(figure_path+'integration.png',dpi=500)"
   ]
  },
  {
   "cell_type": "markdown",
   "metadata": {},
   "source": [
    "# Results"
   ]
  },
  {
   "cell_type": "code",
   "execution_count": 51,
   "metadata": {},
   "outputs": [],
   "source": [
    "data_path='/Users/danielbabin/Documents/GitHub/U1474_XRF_Data_Report/Data/'"
   ]
  },
  {
   "cell_type": "markdown",
   "metadata": {},
   "source": [
    "## Import Core Depth and Identification Details\n",
    "I'll need this information to turn individual core positions from the XRF scanner into total core depths and piece together the splice. "
   ]
  },
  {
   "cell_type": "code",
   "execution_count": 52,
   "metadata": {},
   "outputs": [],
   "source": [
    "splice=pd.read_csv(data_path+'splicedetail_24_9_2018.csv').iloc[0:57]\n",
    "splice['CoreLabel']=(splice['Site']+splice['Hole']+'_'+splice['Core'].map(str))\n",
    "\n",
    "section_list=pd.read_csv(data_path+'Section Summary_11_11_2019.csv')\n",
    "section_list['SectionLabel']=(section_list['Site']+section_list['Hole']+'_'+\n",
    "                              section_list['Core'].map(str)+section_list['Type']+section_list['Sect'].map(str))\n",
    "section_list.rename(columns={'Top depth CCSF-361-U1474-ABDEF-20160220 (m)':'Top Depth CCSF (m)',\n",
    "                            'Bottom depth CCSF-361-U1474-ABDEF-20160220 (m)':'Bottom Depth CCSF (m)'},inplace=True)"
   ]
  },
  {
   "cell_type": "markdown",
   "metadata": {},
   "source": [
    "## Retrieve Data from Hardrive\n",
    "Within this loop, I've also added section identifiers and top and bottom depths for each core. It's easy to do at this step because each dataframe is still only associated with one section. "
   ]
  },
  {
   "cell_type": "code",
   "execution_count": 427,
   "metadata": {},
   "outputs": [],
   "source": [
    "data=pd.read_csv('/Volumes/DPBABIN/Results.txt',header=2,sep='\\t')"
   ]
  },
  {
   "cell_type": "code",
   "execution_count": 75,
   "metadata": {},
   "outputs": [],
   "source": [
    "D4H1=pd.read_csv('/Users/danielbabin/Documents/GitHub/U1474_XRF_Data_Report/Data/U1474D_4H1/Results.txt',header=2,sep='\\t')"
   ]
  },
  {
   "cell_type": "code",
   "execution_count": 53,
   "metadata": {},
   "outputs": [
    {
     "ename": "ValueError",
     "evalue": "Must have equal len keys and value when setting with an iterable",
     "output_type": "error",
     "traceback": [
      "\u001b[0;31m--------------------------------------------------------------------------\u001b[0m",
      "\u001b[0;31mValueError\u001b[0m                               Traceback (most recent call last)",
      "\u001b[0;32m<ipython-input-53-fa041b6f7fee>\u001b[0m in \u001b[0;36m<module>\u001b[0;34m()\u001b[0m\n\u001b[1;32m      5\u001b[0m \u001b[0mD4H1\u001b[0m\u001b[0;34m[\u001b[0m\u001b[0;34m'Section Bottom Depth CCSF (m)'\u001b[0m\u001b[0;34m]\u001b[0m\u001b[0;34m=\u001b[0m\u001b[0;36m0\u001b[0m\u001b[0;34m\u001b[0m\u001b[0m\n\u001b[1;32m      6\u001b[0m \u001b[0;32mfor\u001b[0m \u001b[0msect\u001b[0m \u001b[0;32min\u001b[0m \u001b[0mD4H1\u001b[0m\u001b[0;34m[\u001b[0m\u001b[0;34m'SectionLabel'\u001b[0m\u001b[0;34m]\u001b[0m\u001b[0;34m.\u001b[0m\u001b[0munique\u001b[0m\u001b[0;34m(\u001b[0m\u001b[0;34m)\u001b[0m\u001b[0;34m:\u001b[0m\u001b[0;34m\u001b[0m\u001b[0m\n\u001b[0;32m----> 7\u001b[0;31m     \u001b[0mD4H1\u001b[0m\u001b[0;34m.\u001b[0m\u001b[0mloc\u001b[0m\u001b[0;34m[\u001b[0m\u001b[0mD4H1\u001b[0m\u001b[0;34m[\u001b[0m\u001b[0;34m'SectionLabel'\u001b[0m\u001b[0;34m]\u001b[0m\u001b[0;34m==\u001b[0m\u001b[0msect\u001b[0m\u001b[0;34m,\u001b[0m\u001b[0;34m'Section Top Depth CCSF (m)'\u001b[0m\u001b[0;34m]\u001b[0m\u001b[0;34m=\u001b[0m\u001b[0msection_list\u001b[0m\u001b[0;34m[\u001b[0m\u001b[0msection_list\u001b[0m\u001b[0;34m.\u001b[0m\u001b[0mSectionLabel\u001b[0m\u001b[0;34m==\u001b[0m\u001b[0msect\u001b[0m\u001b[0;34m]\u001b[0m\u001b[0;34m[\u001b[0m\u001b[0;34m'Top Depth CCSF (m)'\u001b[0m\u001b[0;34m]\u001b[0m\u001b[0;34m.\u001b[0m\u001b[0mto_list\u001b[0m\u001b[0;34m(\u001b[0m\u001b[0;34m)\u001b[0m\u001b[0;34m\u001b[0m\u001b[0m\n\u001b[0m\u001b[1;32m      8\u001b[0m     \u001b[0mD4H1\u001b[0m\u001b[0;34m.\u001b[0m\u001b[0mloc\u001b[0m\u001b[0;34m[\u001b[0m\u001b[0mD4H1\u001b[0m\u001b[0;34m[\u001b[0m\u001b[0;34m'SectionLabel'\u001b[0m\u001b[0;34m]\u001b[0m\u001b[0;34m==\u001b[0m\u001b[0msect\u001b[0m\u001b[0;34m,\u001b[0m\u001b[0;34m'Section Bottom Depth CCSF (m)'\u001b[0m\u001b[0;34m]\u001b[0m\u001b[0;34m=\u001b[0m\u001b[0msection_list\u001b[0m\u001b[0;34m[\u001b[0m\u001b[0msection_list\u001b[0m\u001b[0;34m.\u001b[0m\u001b[0mSectionLabel\u001b[0m\u001b[0;34m==\u001b[0m\u001b[0msect\u001b[0m\u001b[0;34m]\u001b[0m\u001b[0;34m[\u001b[0m\u001b[0;34m'Bottom Depth CCSF (m)'\u001b[0m\u001b[0;34m]\u001b[0m\u001b[0;34m.\u001b[0m\u001b[0mto_list\u001b[0m\u001b[0;34m(\u001b[0m\u001b[0;34m)\u001b[0m\u001b[0;34m\u001b[0m\u001b[0m\n",
      "\u001b[0;32m/anaconda3/lib/python3.6/site-packages/pandas/core/indexing.py\u001b[0m in \u001b[0;36m__setitem__\u001b[0;34m(self, key, value)\u001b[0m\n\u001b[1;32m    188\u001b[0m             \u001b[0mkey\u001b[0m \u001b[0;34m=\u001b[0m \u001b[0mcom\u001b[0m\u001b[0;34m.\u001b[0m\u001b[0mapply_if_callable\u001b[0m\u001b[0;34m(\u001b[0m\u001b[0mkey\u001b[0m\u001b[0;34m,\u001b[0m \u001b[0mself\u001b[0m\u001b[0;34m.\u001b[0m\u001b[0mobj\u001b[0m\u001b[0;34m)\u001b[0m\u001b[0;34m\u001b[0m\u001b[0m\n\u001b[1;32m    189\u001b[0m         \u001b[0mindexer\u001b[0m \u001b[0;34m=\u001b[0m \u001b[0mself\u001b[0m\u001b[0;34m.\u001b[0m\u001b[0m_get_setitem_indexer\u001b[0m\u001b[0;34m(\u001b[0m\u001b[0mkey\u001b[0m\u001b[0;34m)\u001b[0m\u001b[0;34m\u001b[0m\u001b[0m\n\u001b[0;32m--> 190\u001b[0;31m         \u001b[0mself\u001b[0m\u001b[0;34m.\u001b[0m\u001b[0m_setitem_with_indexer\u001b[0m\u001b[0;34m(\u001b[0m\u001b[0mindexer\u001b[0m\u001b[0;34m,\u001b[0m \u001b[0mvalue\u001b[0m\u001b[0;34m)\u001b[0m\u001b[0;34m\u001b[0m\u001b[0m\n\u001b[0m\u001b[1;32m    191\u001b[0m \u001b[0;34m\u001b[0m\u001b[0m\n\u001b[1;32m    192\u001b[0m     \u001b[0;32mdef\u001b[0m \u001b[0m_validate_key\u001b[0m\u001b[0;34m(\u001b[0m\u001b[0mself\u001b[0m\u001b[0;34m,\u001b[0m \u001b[0mkey\u001b[0m\u001b[0;34m,\u001b[0m \u001b[0maxis\u001b[0m\u001b[0;34m)\u001b[0m\u001b[0;34m:\u001b[0m\u001b[0;34m\u001b[0m\u001b[0m\n",
      "\u001b[0;32m/anaconda3/lib/python3.6/site-packages/pandas/core/indexing.py\u001b[0m in \u001b[0;36m_setitem_with_indexer\u001b[0;34m(self, indexer, value)\u001b[0m\n\u001b[1;32m    609\u001b[0m \u001b[0;34m\u001b[0m\u001b[0m\n\u001b[1;32m    610\u001b[0m                     \u001b[0;32mif\u001b[0m \u001b[0mlen\u001b[0m\u001b[0;34m(\u001b[0m\u001b[0mlabels\u001b[0m\u001b[0;34m)\u001b[0m \u001b[0;34m!=\u001b[0m \u001b[0mlen\u001b[0m\u001b[0;34m(\u001b[0m\u001b[0mvalue\u001b[0m\u001b[0;34m)\u001b[0m\u001b[0;34m:\u001b[0m\u001b[0;34m\u001b[0m\u001b[0m\n\u001b[0;32m--> 611\u001b[0;31m                         raise ValueError('Must have equal len keys and value '\n\u001b[0m\u001b[1;32m    612\u001b[0m                                          'when setting with an iterable')\n\u001b[1;32m    613\u001b[0m \u001b[0;34m\u001b[0m\u001b[0m\n",
      "\u001b[0;31mValueError\u001b[0m: Must have equal len keys and value when setting with an iterable"
     ]
    }
   ],
   "source": [
    "data['SectionFile']=data['filename'].str[21:]\n",
    "data[['SectionLabel','File']]=data['SectionFile'].str.split(\"-\", n = 1, expand = True)\n",
    "data['Core']=data['SectionLabel'].str[:-2]\n",
    "data['Section Top Depth CCSF (m)']=0\n",
    "data['Section Bottom Depth CCSF (m)']=0\n",
    "for sect in data['SectionLabel'].unique():\n",
    "    data.loc[data['SectionLabel']==sect,'Section Top Depth CCSF (m)']=section_list[section_list.SectionLabel==sect]['Top Depth CCSF (m)'].to_list()\n",
    "    data.loc[data['SectionLabel']==sect,'Section Bottom Depth CCSF (m)']=section_list[section_list.SectionLabel==sect]['Bottom Depth CCSF (m)'].to_list()"
   ]
  },
  {
   "cell_type": "code",
   "execution_count": 76,
   "metadata": {},
   "outputs": [],
   "source": [
    "D4H1['SectionFile']=D4H1['filename'].str[33:]\n",
    "D4H1[['SectionLabel','File']]=D4H1['SectionFile'].str.split(\"-\", n = 1, expand = True)\n",
    "D4H1['Core']=D4H1['SectionLabel'].str[:-2]\n",
    "D4H1['Section Top Depth CCSF (m)']=0\n",
    "D4H1['Section Bottom Depth CCSF (m)']=0\n",
    "for sect in D4H1['SectionLabel'].unique():\n",
    "    D4H1.loc[D4H1['SectionLabel']==sect,'Section Top Depth CCSF (m)']=section_list[section_list.SectionLabel==sect]['Top Depth CCSF (m)'].to_list()\n",
    "    D4H1.loc[D4H1['SectionLabel']==sect,'Section Bottom Depth CCSF (m)']=section_list[section_list.SectionLabel==sect]['Bottom Depth CCSF (m)'].to_list()"
   ]
  },
  {
   "cell_type": "code",
   "execution_count": 449,
   "metadata": {},
   "outputs": [
    {
     "ename": "FileNotFoundError",
     "evalue": "[Errno 2] File b'/Volumes/DPBABIN/EXP361-U1474/107_U1474D_14H1/Results_sm.txt' does not exist: b'/Volumes/DPBABIN/EXP361-U1474/107_U1474D_14H1/Results_sm.txt'",
     "output_type": "error",
     "traceback": [
      "\u001b[0;31m---------------------------------------------------------------------------\u001b[0m",
      "\u001b[0;31mFileNotFoundError\u001b[0m                         Traceback (most recent call last)",
      "\u001b[0;32m<ipython-input-449-fcc24876314c>\u001b[0m in \u001b[0;36m<module>\u001b[0;34m()\u001b[0m\n\u001b[1;32m      3\u001b[0m     \u001b[0mcore\u001b[0m\u001b[0;34m=\u001b[0m\u001b[0mU1474\u001b[0m\u001b[0;34m+\u001b[0m\u001b[0msection\u001b[0m\u001b[0;34m+\u001b[0m\u001b[0;34m'/'\u001b[0m\u001b[0;34m\u001b[0m\u001b[0m\n\u001b[1;32m      4\u001b[0m \u001b[0;34m\u001b[0m\u001b[0m\n\u001b[0;32m----> 5\u001b[0;31m     \u001b[0mdct\u001b[0m\u001b[0;34m[\u001b[0m\u001b[0msection\u001b[0m\u001b[0;34m]\u001b[0m\u001b[0;34m=\u001b[0m\u001b[0mpd\u001b[0m\u001b[0;34m.\u001b[0m\u001b[0mread_csv\u001b[0m\u001b[0;34m(\u001b[0m\u001b[0mcore\u001b[0m\u001b[0;34m+\u001b[0m\u001b[0;34m'Results_sm.txt'\u001b[0m\u001b[0;34m,\u001b[0m\u001b[0msep\u001b[0m\u001b[0;34m=\u001b[0m\u001b[0;34m'\\t'\u001b[0m\u001b[0;34m,\u001b[0m\u001b[0mheader\u001b[0m\u001b[0;34m=\u001b[0m\u001b[0;36m2\u001b[0m\u001b[0;34m)\u001b[0m\u001b[0;34m\u001b[0m\u001b[0m\n\u001b[0m\u001b[1;32m      6\u001b[0m     \u001b[0mdct\u001b[0m\u001b[0;34m[\u001b[0m\u001b[0msection\u001b[0m\u001b[0;34m]\u001b[0m\u001b[0;34m[\u001b[0m\u001b[0;34m'Section'\u001b[0m\u001b[0;34m]\u001b[0m\u001b[0;34m=\u001b[0m\u001b[0msection\u001b[0m\u001b[0;34m[\u001b[0m\u001b[0;36m4\u001b[0m\u001b[0;34m:\u001b[0m\u001b[0;34m]\u001b[0m\u001b[0;34m\u001b[0m\u001b[0m\n\u001b[1;32m      7\u001b[0m     \u001b[0mdct\u001b[0m\u001b[0;34m[\u001b[0m\u001b[0msection\u001b[0m\u001b[0;34m]\u001b[0m\u001b[0;34m[\u001b[0m\u001b[0;34m'Core'\u001b[0m\u001b[0;34m]\u001b[0m\u001b[0;34m=\u001b[0m\u001b[0msection\u001b[0m\u001b[0;34m[\u001b[0m\u001b[0;36m4\u001b[0m\u001b[0;34m:\u001b[0m\u001b[0;34m-\u001b[0m\u001b[0;36m2\u001b[0m\u001b[0;34m]\u001b[0m\u001b[0;34m\u001b[0m\u001b[0m\n",
      "\u001b[0;32m/anaconda3/lib/python3.6/site-packages/pandas/io/parsers.py\u001b[0m in \u001b[0;36mparser_f\u001b[0;34m(filepath_or_buffer, sep, delimiter, header, names, index_col, usecols, squeeze, prefix, mangle_dupe_cols, dtype, engine, converters, true_values, false_values, skipinitialspace, skiprows, skipfooter, nrows, na_values, keep_default_na, na_filter, verbose, skip_blank_lines, parse_dates, infer_datetime_format, keep_date_col, date_parser, dayfirst, iterator, chunksize, compression, thousands, decimal, lineterminator, quotechar, quoting, doublequote, escapechar, comment, encoding, dialect, tupleize_cols, error_bad_lines, warn_bad_lines, delim_whitespace, low_memory, memory_map, float_precision)\u001b[0m\n\u001b[1;32m    700\u001b[0m                     skip_blank_lines=skip_blank_lines)\n\u001b[1;32m    701\u001b[0m \u001b[0;34m\u001b[0m\u001b[0m\n\u001b[0;32m--> 702\u001b[0;31m         \u001b[0;32mreturn\u001b[0m \u001b[0m_read\u001b[0m\u001b[0;34m(\u001b[0m\u001b[0mfilepath_or_buffer\u001b[0m\u001b[0;34m,\u001b[0m \u001b[0mkwds\u001b[0m\u001b[0;34m)\u001b[0m\u001b[0;34m\u001b[0m\u001b[0m\n\u001b[0m\u001b[1;32m    703\u001b[0m \u001b[0;34m\u001b[0m\u001b[0m\n\u001b[1;32m    704\u001b[0m     \u001b[0mparser_f\u001b[0m\u001b[0;34m.\u001b[0m\u001b[0m__name__\u001b[0m \u001b[0;34m=\u001b[0m \u001b[0mname\u001b[0m\u001b[0;34m\u001b[0m\u001b[0m\n",
      "\u001b[0;32m/anaconda3/lib/python3.6/site-packages/pandas/io/parsers.py\u001b[0m in \u001b[0;36m_read\u001b[0;34m(filepath_or_buffer, kwds)\u001b[0m\n\u001b[1;32m    427\u001b[0m \u001b[0;34m\u001b[0m\u001b[0m\n\u001b[1;32m    428\u001b[0m     \u001b[0;31m# Create the parser.\u001b[0m\u001b[0;34m\u001b[0m\u001b[0;34m\u001b[0m\u001b[0m\n\u001b[0;32m--> 429\u001b[0;31m     \u001b[0mparser\u001b[0m \u001b[0;34m=\u001b[0m \u001b[0mTextFileReader\u001b[0m\u001b[0;34m(\u001b[0m\u001b[0mfilepath_or_buffer\u001b[0m\u001b[0;34m,\u001b[0m \u001b[0;34m**\u001b[0m\u001b[0mkwds\u001b[0m\u001b[0;34m)\u001b[0m\u001b[0;34m\u001b[0m\u001b[0m\n\u001b[0m\u001b[1;32m    430\u001b[0m \u001b[0;34m\u001b[0m\u001b[0m\n\u001b[1;32m    431\u001b[0m     \u001b[0;32mif\u001b[0m \u001b[0mchunksize\u001b[0m \u001b[0;32mor\u001b[0m \u001b[0miterator\u001b[0m\u001b[0;34m:\u001b[0m\u001b[0;34m\u001b[0m\u001b[0m\n",
      "\u001b[0;32m/anaconda3/lib/python3.6/site-packages/pandas/io/parsers.py\u001b[0m in \u001b[0;36m__init__\u001b[0;34m(self, f, engine, **kwds)\u001b[0m\n\u001b[1;32m    893\u001b[0m             \u001b[0mself\u001b[0m\u001b[0;34m.\u001b[0m\u001b[0moptions\u001b[0m\u001b[0;34m[\u001b[0m\u001b[0;34m'has_index_names'\u001b[0m\u001b[0;34m]\u001b[0m \u001b[0;34m=\u001b[0m \u001b[0mkwds\u001b[0m\u001b[0;34m[\u001b[0m\u001b[0;34m'has_index_names'\u001b[0m\u001b[0;34m]\u001b[0m\u001b[0;34m\u001b[0m\u001b[0m\n\u001b[1;32m    894\u001b[0m \u001b[0;34m\u001b[0m\u001b[0m\n\u001b[0;32m--> 895\u001b[0;31m         \u001b[0mself\u001b[0m\u001b[0;34m.\u001b[0m\u001b[0m_make_engine\u001b[0m\u001b[0;34m(\u001b[0m\u001b[0mself\u001b[0m\u001b[0;34m.\u001b[0m\u001b[0mengine\u001b[0m\u001b[0;34m)\u001b[0m\u001b[0;34m\u001b[0m\u001b[0m\n\u001b[0m\u001b[1;32m    896\u001b[0m \u001b[0;34m\u001b[0m\u001b[0m\n\u001b[1;32m    897\u001b[0m     \u001b[0;32mdef\u001b[0m \u001b[0mclose\u001b[0m\u001b[0;34m(\u001b[0m\u001b[0mself\u001b[0m\u001b[0;34m)\u001b[0m\u001b[0;34m:\u001b[0m\u001b[0;34m\u001b[0m\u001b[0m\n",
      "\u001b[0;32m/anaconda3/lib/python3.6/site-packages/pandas/io/parsers.py\u001b[0m in \u001b[0;36m_make_engine\u001b[0;34m(self, engine)\u001b[0m\n\u001b[1;32m   1120\u001b[0m     \u001b[0;32mdef\u001b[0m \u001b[0m_make_engine\u001b[0m\u001b[0;34m(\u001b[0m\u001b[0mself\u001b[0m\u001b[0;34m,\u001b[0m \u001b[0mengine\u001b[0m\u001b[0;34m=\u001b[0m\u001b[0;34m'c'\u001b[0m\u001b[0;34m)\u001b[0m\u001b[0;34m:\u001b[0m\u001b[0;34m\u001b[0m\u001b[0m\n\u001b[1;32m   1121\u001b[0m         \u001b[0;32mif\u001b[0m \u001b[0mengine\u001b[0m \u001b[0;34m==\u001b[0m \u001b[0;34m'c'\u001b[0m\u001b[0;34m:\u001b[0m\u001b[0;34m\u001b[0m\u001b[0m\n\u001b[0;32m-> 1122\u001b[0;31m             \u001b[0mself\u001b[0m\u001b[0;34m.\u001b[0m\u001b[0m_engine\u001b[0m \u001b[0;34m=\u001b[0m \u001b[0mCParserWrapper\u001b[0m\u001b[0;34m(\u001b[0m\u001b[0mself\u001b[0m\u001b[0;34m.\u001b[0m\u001b[0mf\u001b[0m\u001b[0;34m,\u001b[0m \u001b[0;34m**\u001b[0m\u001b[0mself\u001b[0m\u001b[0;34m.\u001b[0m\u001b[0moptions\u001b[0m\u001b[0;34m)\u001b[0m\u001b[0;34m\u001b[0m\u001b[0m\n\u001b[0m\u001b[1;32m   1123\u001b[0m         \u001b[0;32melse\u001b[0m\u001b[0;34m:\u001b[0m\u001b[0;34m\u001b[0m\u001b[0m\n\u001b[1;32m   1124\u001b[0m             \u001b[0;32mif\u001b[0m \u001b[0mengine\u001b[0m \u001b[0;34m==\u001b[0m \u001b[0;34m'python'\u001b[0m\u001b[0;34m:\u001b[0m\u001b[0;34m\u001b[0m\u001b[0m\n",
      "\u001b[0;32m/anaconda3/lib/python3.6/site-packages/pandas/io/parsers.py\u001b[0m in \u001b[0;36m__init__\u001b[0;34m(self, src, **kwds)\u001b[0m\n\u001b[1;32m   1851\u001b[0m         \u001b[0mkwds\u001b[0m\u001b[0;34m[\u001b[0m\u001b[0;34m'usecols'\u001b[0m\u001b[0;34m]\u001b[0m \u001b[0;34m=\u001b[0m \u001b[0mself\u001b[0m\u001b[0;34m.\u001b[0m\u001b[0musecols\u001b[0m\u001b[0;34m\u001b[0m\u001b[0m\n\u001b[1;32m   1852\u001b[0m \u001b[0;34m\u001b[0m\u001b[0m\n\u001b[0;32m-> 1853\u001b[0;31m         \u001b[0mself\u001b[0m\u001b[0;34m.\u001b[0m\u001b[0m_reader\u001b[0m \u001b[0;34m=\u001b[0m \u001b[0mparsers\u001b[0m\u001b[0;34m.\u001b[0m\u001b[0mTextReader\u001b[0m\u001b[0;34m(\u001b[0m\u001b[0msrc\u001b[0m\u001b[0;34m,\u001b[0m \u001b[0;34m**\u001b[0m\u001b[0mkwds\u001b[0m\u001b[0;34m)\u001b[0m\u001b[0;34m\u001b[0m\u001b[0m\n\u001b[0m\u001b[1;32m   1854\u001b[0m         \u001b[0mself\u001b[0m\u001b[0;34m.\u001b[0m\u001b[0munnamed_cols\u001b[0m \u001b[0;34m=\u001b[0m \u001b[0mself\u001b[0m\u001b[0;34m.\u001b[0m\u001b[0m_reader\u001b[0m\u001b[0;34m.\u001b[0m\u001b[0munnamed_cols\u001b[0m\u001b[0;34m\u001b[0m\u001b[0m\n\u001b[1;32m   1855\u001b[0m \u001b[0;34m\u001b[0m\u001b[0m\n",
      "\u001b[0;32mpandas/_libs/parsers.pyx\u001b[0m in \u001b[0;36mpandas._libs.parsers.TextReader.__cinit__\u001b[0;34m()\u001b[0m\n",
      "\u001b[0;32mpandas/_libs/parsers.pyx\u001b[0m in \u001b[0;36mpandas._libs.parsers.TextReader._setup_parser_source\u001b[0;34m()\u001b[0m\n",
      "\u001b[0;31mFileNotFoundError\u001b[0m: [Errno 2] File b'/Volumes/DPBABIN/EXP361-U1474/107_U1474D_14H1/Results_sm.txt' does not exist: b'/Volumes/DPBABIN/EXP361-U1474/107_U1474D_14H1/Results_sm.txt'"
     ]
    }
   ],
   "source": [
    "dct={}\n",
    "for i,section in enumerate(U1474_sections): \n",
    "    core=U1474+section+'/'\n",
    "\n",
    "    dct[section]=pd.read_csv(core+'Results_sm.txt',sep='\\t',header=2)\n",
    "    dct[section]['Section']=section[4:]\n",
    "    dct[section]['Core']=section[4:-2]\n",
    "    \n",
    "    t=section_list[section_list.SectionLabel==section[4:]]['Top Depth CCSF (m)']\n",
    "    b=section_list[section_list.SectionLabel==section[4:]]['Bottom Depth CCSF (m)']\n",
    "    \n",
    "    dct[section]['Top Depth CCSF (m)']=float(t)\n",
    "    dct[section]['Bottom Depth CCSF (m)']=float(b)"
   ]
  },
  {
   "cell_type": "markdown",
   "metadata": {},
   "source": [
    "## Concatenate Results into one DataFrame\n",
    "I've also dropped the final measurement frome each section because usually the counts are low, due to low counts at the air at the end of the core."
   ]
  },
  {
   "cell_type": "code",
   "execution_count": 450,
   "metadata": {},
   "outputs": [
    {
     "ename": "KeyError",
     "evalue": "'107_U1474D_14H1'",
     "output_type": "error",
     "traceback": [
      "\u001b[0;31m---------------------------------------------------------------------------\u001b[0m",
      "\u001b[0;31mKeyError\u001b[0m                                  Traceback (most recent call last)",
      "\u001b[0;32m<ipython-input-450-0ad7581d2fee>\u001b[0m in \u001b[0;36m<module>\u001b[0;34m()\u001b[0m\n\u001b[1;32m      1\u001b[0m \u001b[0mresults\u001b[0m\u001b[0;34m=\u001b[0m\u001b[0mpd\u001b[0m\u001b[0;34m.\u001b[0m\u001b[0mDataFrame\u001b[0m\u001b[0;34m(\u001b[0m\u001b[0;34m)\u001b[0m\u001b[0;34m\u001b[0m\u001b[0m\n\u001b[1;32m      2\u001b[0m \u001b[0;32mfor\u001b[0m \u001b[0msection\u001b[0m \u001b[0;32min\u001b[0m \u001b[0mU1474_sections\u001b[0m\u001b[0;34m:\u001b[0m\u001b[0;34m\u001b[0m\u001b[0m\n\u001b[0;32m----> 3\u001b[0;31m     \u001b[0mresults\u001b[0m\u001b[0;34m=\u001b[0m\u001b[0mresults\u001b[0m\u001b[0;34m.\u001b[0m\u001b[0mappend\u001b[0m\u001b[0;34m(\u001b[0m\u001b[0mdct\u001b[0m\u001b[0;34m[\u001b[0m\u001b[0msection\u001b[0m\u001b[0;34m]\u001b[0m\u001b[0;34m.\u001b[0m\u001b[0miloc\u001b[0m\u001b[0;34m[\u001b[0m\u001b[0;34m:\u001b[0m\u001b[0;34m-\u001b[0m\u001b[0;36m1\u001b[0m\u001b[0;34m]\u001b[0m\u001b[0;34m,\u001b[0m\u001b[0msort\u001b[0m\u001b[0;34m=\u001b[0m\u001b[0;32mFalse\u001b[0m\u001b[0;34m)\u001b[0m\u001b[0;34m\u001b[0m\u001b[0m\n\u001b[0m\u001b[1;32m      4\u001b[0m \u001b[0mnds\u001b[0m\u001b[0;34m=\u001b[0m\u001b[0mnp\u001b[0m\u001b[0;34m.\u001b[0m\u001b[0marange\u001b[0m\u001b[0;34m(\u001b[0m\u001b[0mlen\u001b[0m\u001b[0;34m(\u001b[0m\u001b[0mresults\u001b[0m\u001b[0;34m)\u001b[0m\u001b[0;34m)\u001b[0m\u001b[0;34m\u001b[0m\u001b[0m\n\u001b[1;32m      5\u001b[0m \u001b[0mresults\u001b[0m\u001b[0;34m[\u001b[0m\u001b[0;34m'#'\u001b[0m\u001b[0;34m]\u001b[0m\u001b[0;34m=\u001b[0m\u001b[0mnds\u001b[0m\u001b[0;34m\u001b[0m\u001b[0m\n",
      "\u001b[0;31mKeyError\u001b[0m: '107_U1474D_14H1'"
     ]
    }
   ],
   "source": [
    "results=pd.DataFrame()\n",
    "for section in U1474_sections:\n",
    "    results=results.append(dct[section].iloc[:-1],sort=False)\n",
    "nds=np.arange(len(results))\n",
    "results['#']=nds\n",
    "results=results.set_index('#')"
   ]
  },
  {
   "cell_type": "markdown",
   "metadata": {},
   "source": [
    "## Turn \"Position\" into CCSF Depth"
   ]
  },
  {
   "cell_type": "code",
   "execution_count": 451,
   "metadata": {},
   "outputs": [],
   "source": [
    "results['Depth CCSF (m)']=results['position (mm)']/1000+results['Top Depth CCSF (m)']\n",
    "results.sort_values(by='Depth CCSF (m)',inplace=True)"
   ]
  },
  {
   "cell_type": "code",
   "execution_count": 429,
   "metadata": {},
   "outputs": [],
   "source": [
    "data['Depth CCSF (m)']=data['position (mm)']/1000+data['Section Top Depth CCSF (m)']\n",
    "data.sort_values(by='Depth CCSF (m)',inplace=True)"
   ]
  },
  {
   "cell_type": "code",
   "execution_count": 77,
   "metadata": {},
   "outputs": [],
   "source": [
    "D4H1['Depth CCSF (m)']=D4H1['position (mm)']/1000+D4H1['Section Top Depth CCSF (m)']\n",
    "D4H1.sort_values(by='Depth CCSF (m)',inplace=True)"
   ]
  },
  {
   "cell_type": "markdown",
   "metadata": {},
   "source": [
    "## Select the Splice"
   ]
  },
  {
   "cell_type": "code",
   "execution_count": 452,
   "metadata": {},
   "outputs": [],
   "source": [
    "for i,core in enumerate(splice.CoreLabel):\n",
    "    deeper=results.loc[results['Core']==core,'Depth CCSF (m)']>splice.loc[i,'Top depth CCSF (m)']\n",
    "    shallower=results.loc[results['Core']==core,'Depth CCSF (m)']<splice.loc[i,'Bottom depth CCSF (m)']\n",
    "    results.loc[results['Core']==core,'In Splice']=deeper&shallower"
   ]
  },
  {
   "cell_type": "code",
   "execution_count": 431,
   "metadata": {},
   "outputs": [],
   "source": [
    "for i,core in enumerate(splice.CoreLabel):\n",
    "    deeper=data.loc[data['Core']==core,'Depth CCSF (m)']>splice.loc[i,'Top depth CCSF (m)']\n",
    "    shallower=data.loc[data['Core']==core,'Depth CCSF (m)']<splice.loc[i,'Bottom depth CCSF (m)']\n",
    "    data.loc[data['Core']==core,'In Splice']=deeper&shallower"
   ]
  },
  {
   "cell_type": "code",
   "execution_count": 466,
   "metadata": {},
   "outputs": [],
   "source": [
    "d=data[data['In Splice']==True]\n",
    "r=results[results['In Splice']==True]"
   ]
  },
  {
   "cell_type": "code",
   "execution_count": 470,
   "metadata": {},
   "outputs": [
    {
     "data": {
      "text/plain": [
       "(50, 100)"
      ]
     },
     "execution_count": 470,
     "metadata": {},
     "output_type": "execute_result"
    },
    {
     "data": {
      "image/png": "[encoded data removed]",
      "text/plain": [
       "<Figure size 720x216 with 1 Axes>"
      ]
     },
     "metadata": {},
     "output_type": "display_data"
    }
   ],
   "source": [
    "fig,ax=plt.subplots(figsize=(10,3))\n",
    "ax.plot(d['Depth CCSF (m)'],(d['Al']/d['K']),alpha=.5)\n",
    "ax.plot(r['Depth CCSF (m)'],(r['Al']/r['K']),alpha=.5)\n",
    "ax.set_ylim(.01,.04)\n",
    "ax.set_xlim(50,100)"
   ]
  },
  {
   "cell_type": "code",
   "execution_count": 464,
   "metadata": {},
   "outputs": [
    {
     "data": {
      "text/plain": [
       "<matplotlib.axes._subplots.AxesSubplot at 0x1339efda0>"
      ]
     },
     "execution_count": 464,
     "metadata": {},
     "output_type": "execute_result"
    },
    {
     "data": {
      "image/png": "[encoded data removed]",
      "text/plain": [
       "<Figure size 432x288 with 1 Axes>"
      ]
     },
     "metadata": {},
     "output_type": "display_data"
    }
   ],
   "source": [
    "fig,ax=plt.subplots()\n",
    "data[data['In Splice']==True].plot(x='Depth CCSF (m)',y='Si',ax=ax)"
   ]
  },
  {
   "cell_type": "markdown",
   "metadata": {},
   "source": [
    "# Final Cleaning\n",
    "## Select important columns"
   ]
  },
  {
   "cell_type": "code",
   "execution_count": 471,
   "metadata": {},
   "outputs": [
    {
     "data": {
      "text/plain": [
       "Index(['filename', 'position (mm)', 'sample surface', 'validity', 'E-gain',\n",
       "       'E-offset', 'F-slope', 'F-offset', 'cps', 'MSE', 'Mg', 'Al', 'Si', 'P',\n",
       "       'S', 'Cl', 'Ar', 'K', 'Ca', 'Sc', 'Ti', 'V', 'Mn', 'Fe', 'Co', 'Ni',\n",
       "       'Cu', 'Zn', 'Ga', 'Rb', 'Sr', 'Y', 'Zr', 'Ru', 'Rh', 'Pd', 'Cd', 'Sb',\n",
       "       'Ba', 'Ce', 'Pr', 'Nd', 'Tb', 'Tm', 'Lu', 'Hf', 'Os', 'Ir', 'Pt', 'Hg',\n",
       "       'Tl', 'Pb', 'Th', 'Pa', 'U', 'Cr kb', 'Ca ka-a sum', 'Ca ka-b sum',\n",
       "       'S2', 'W la', 'W la scat', 'W lb1', 'W lb1 scat', 'W lb2', 'W lb2 scat',\n",
       "       'Cr inc', 'Cr coh', 'Dt', 'Unnamed: 68', 'SectionFile', 'SectionLabel',\n",
       "       'File', 'Core', 'Section Top Depth CCSF (m)',\n",
       "       'Section Bottom Depth CCSF (m)', 'Depth CCSF (m)', 'In Splice'],\n",
       "      dtype='object')"
      ]
     },
     "execution_count": 471,
     "metadata": {},
     "output_type": "execute_result"
    }
   ],
   "source": [
    "data.columns"
   ]
  },
  {
   "cell_type": "code",
   "execution_count": 473,
   "metadata": {},
   "outputs": [],
   "source": [
    "# col_list=results.columns[:80].to_list()+results.columns[-2:].to_list()"
   ]
  },
  {
   "cell_type": "code",
   "execution_count": 1336,
   "metadata": {},
   "outputs": [],
   "source": [
    "results['Depth CCSF (m)']=round(results['Depth CCSF (m)'].astype(float),2)\n",
    "final=results[results['In Splice']==True][col_list].set_index('Depth CCSF (m)')"
   ]
  },
  {
   "cell_type": "code",
   "execution_count": 480,
   "metadata": {},
   "outputs": [],
   "source": [
    "data['Depth CCSF (m)']=round(data['Depth CCSF (m)'].astype(float),2)\n",
    "final=data[data['In Splice']==True].set_index('Depth CCSF (m)')"
   ]
  },
  {
   "cell_type": "code",
   "execution_count": 80,
   "metadata": {},
   "outputs": [],
   "source": [
    "D4H1['Depth CCSF (m)']=round(D4H1['Depth CCSF (m)'].astype(float),2)\n",
    "D4H1.set_index('Depth CCSF (m)',inplace=True)"
   ]
  },
  {
   "cell_type": "markdown",
   "metadata": {},
   "source": [
    "## Set Thresholds and Drop Cracks and Burps\n",
    "Of some 10000 rows, 38 rows from 15 groups were dropped due to extreme outliers in the ratios."
   ]
  },
  {
   "cell_type": "code",
   "execution_count": 1337,
   "metadata": {},
   "outputs": [],
   "source": [
    "no_zero=final[final['Al']>400]\n",
    "no_zero=no_zero[(no_zero[['Al','Si','K','Ca','Ti','Fe']] != 0).all(1)]\n",
    "no_zero.drop([20.46,20.48,\n",
    "              41.84,41.86,\n",
    "              83.63,83.65,83.67,83.69,\n",
    "              84.09,84.11,\n",
    "              85.79,83.71,\n",
    "              118.42,118.44,118.46,\n",
    "              123.78,\n",
    "              127.52,127.54,127.56,\n",
    "              153.12,153.14,\n",
    "              174.95,\n",
    "              198.16,198.18,198.20,\n",
    "              216.02,216.04,216.06,216.08,216.10,216.12,216.14,216.16,\n",
    "              191.77,191.79,\n",
    "              227.51,227.53,\n",
    "              249.36],inplace=True)"
   ]
  },
  {
   "cell_type": "markdown",
   "metadata": {},
   "source": [
    "# Export"
   ]
  },
  {
   "cell_type": "code",
   "execution_count": 70,
   "metadata": {},
   "outputs": [
    {
     "ename": "NameError",
     "evalue": "name 'final' is not defined",
     "output_type": "error",
     "traceback": [
      "\u001b[0;31m--------------------------------------------------------------------------\u001b[0m",
      "\u001b[0;31mNameError\u001b[0m                                Traceback (most recent call last)",
      "\u001b[0;32m<ipython-input-70-a239c05e9dfd>\u001b[0m in \u001b[0;36m<module>\u001b[0;34m()\u001b[0m\n\u001b[0;32m----> 1\u001b[0;31m \u001b[0mexport\u001b[0m\u001b[0;34m=\u001b[0m\u001b[0mfinal\u001b[0m\u001b[0;34m\u001b[0m\u001b[0m\n\u001b[0m",
      "\u001b[0;31mNameError\u001b[0m: name 'final' is not defined"
     ]
    }
   ],
   "source": [
    "export=final"
   ]
  },
  {
   "cell_type": "code",
   "execution_count": 69,
   "metadata": {},
   "outputs": [
    {
     "ename": "NameError",
     "evalue": "name 'export' is not defined",
     "output_type": "error",
     "traceback": [
      "\u001b[0;31m--------------------------------------------------------------------------\u001b[0m",
      "\u001b[0;31mNameError\u001b[0m                                Traceback (most recent call last)",
      "\u001b[0;32m<ipython-input-69-5501808b4c1e>\u001b[0m in \u001b[0;36m<module>\u001b[0;34m()\u001b[0m\n\u001b[1;32m      1\u001b[0m \u001b[0mresults_path\u001b[0m\u001b[0;34m=\u001b[0m\u001b[0;34m'/Users/danielbabin/Documents/GitHub/U1474_XRF_Data_Report/Data/'\u001b[0m\u001b[0;34m\u001b[0m\u001b[0m\n\u001b[0;32m----> 2\u001b[0;31m \u001b[0mexport\u001b[0m\u001b[0;34m.\u001b[0m\u001b[0mto_csv\u001b[0m\u001b[0;34m(\u001b[0m\u001b[0mresults_path\u001b[0m\u001b[0;34m+\u001b[0m\u001b[0;34m'integrated_xrf_data_raw.csv'\u001b[0m\u001b[0;34m)\u001b[0m\u001b[0;34m\u001b[0m\u001b[0m\n\u001b[0m\u001b[1;32m      3\u001b[0m \u001b[0mD4H1\u001b[0m\u001b[0;34m.\u001b[0m\u001b[0mto_csv\u001b[0m\u001b[0;34m(\u001b[0m\u001b[0mresults_path\u001b[0m\u001b[0;34m+\u001b[0m\u001b[0;34m'D4H1.csv'\u001b[0m\u001b[0;34m)\u001b[0m\u001b[0;34m\u001b[0m\u001b[0m\n",
      "\u001b[0;31mNameError\u001b[0m: name 'export' is not defined"
     ]
    }
   ],
   "source": [
    "results_path='/Users/danielbabin/Documents/GitHub/U1474_XRF_Data_Report/Data/'\n",
    "export.to_csv(results_path+'integrated_xrf_data_raw.csv')\n"
   ]
  },
  {
   "cell_type": "code",
   "execution_count": 81,
   "metadata": {},
   "outputs": [],
   "source": [
    "results_path='/Users/danielbabin/Documents/GitHub/U1474_XRF_Data_Report/Data/'\n",
    "D4H1.to_csv(results_path+'D4H1.csv')"
   ]
  },
  {
   "cell_type": "code",
   "execution_count": null,
   "metadata": {},
   "outputs": [],
   "source": []
  }
 ],
 "metadata": {
  "kernelspec": {
   "display_name": "Python 3",
   "language": "python",
   "name": "python3"
  },
  "language_info": {
   "codemirror_mode": {
    "name": "ipython",
    "version": 3
   },
   "file_extension": ".py",
   "mimetype": "text/x-python",
   "name": "python",
   "nbconvert_exporter": "python",
   "pygments_lexer": "ipython3",
   "version": "3.6.5"
  }
 },
 "nbformat": 4,
 "nbformat_minor": 2
}
