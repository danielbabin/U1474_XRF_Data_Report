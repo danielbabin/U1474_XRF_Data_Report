{
 "cells": [
  {
   "cell_type": "markdown",
   "metadata": {},
   "source": [
    "# Import Packages"
   ]
  },
  {
   "cell_type": "code",
   "execution_count": 441,
   "metadata": {},
   "outputs": [],
   "source": [
    "import pandas as pd\n",
    "import numpy as np\n",
    "import matplotlib.pyplot as plt\n",
    "from os import listdir\n",
    "import os"
   ]
  },
  {
   "cell_type": "markdown",
   "metadata": {},
   "source": [
    "# Set Paths for Cores\n",
    "The 10 GB of raw data are located on an external hardrive, this link will not work on github."
   ]
  },
  {
   "cell_type": "code",
   "execution_count": 678,
   "metadata": {},
   "outputs": [],
   "source": [
    "U1474='/Volumes/DPBABIN/EXP361-U1474/'\n",
    "U1478='/Volumes/DPBABIN/EXP361-U1478/'"
   ]
  },
  {
   "cell_type": "markdown",
   "metadata": {},
   "source": [
    "# Get Core Names\n",
    "I'll need to link to a directory in each core's file that has the raw spectra files"
   ]
  },
  {
   "cell_type": "code",
   "execution_count": 679,
   "metadata": {},
   "outputs": [],
   "source": [
    "U1474_sections=listdir(U1474)\n",
    "U1474_sections.sort()\n",
    "U1478_sections=listdir(U1478)"
   ]
  },
  {
   "cell_type": "code",
   "execution_count": 493,
   "metadata": {},
   "outputs": [],
   "source": [
    "files=listdir(core)"
   ]
  },
  {
   "cell_type": "markdown",
   "metadata": {},
   "source": [
    "# Pre-Process Data\n",
    "The steps for each core section (213 in all):<br>\n",
    "1) Load all files in the section's directory as dataframes into a dictionary. <br>\n",
    "2) Turn that dictionary into a single dataframe, where each column is one of the spectra. <br>\n",
    "3) Do a 10-pt running sum of those spectra and selected every 10th one. This turns 10 spectra into one taller one. <br>\n",
    "4) Turn that dataframe back into a a dictionary and a csv that Qspec can read.<br>\n",
    "5) Write the resulting file into a directory on the external hardrive called 'New XRF Data\"<br>\n",
    "## U1474"
   ]
  },
  {
   "cell_type": "code",
   "execution_count": 283,
   "metadata": {},
   "outputs": [],
   "source": [
    "for section in U1474_sections: \n",
    "    core=U1474+section+'/XRF data/'\n",
    "\n",
    "    files=listdir(core)\n",
    "\n",
    "    dct={}\n",
    "    for file in files:\n",
    "        dct[file]=pd.read_csv(core+file,sep='\\t',index_col='Date:')\n",
    "\n",
    "    df=pd.DataFrame()\n",
    "    for k in dct.keys():\n",
    "        df[k]=dct[k].iloc[30:,0]\n",
    "\n",
    "    summed=df.rolling(10,center=True,axis=1).sum()\n",
    "\n",
    "    selected=summed.iloc[:,5:-5:10]\n",
    "\n",
    "    product_dict={}\n",
    "    for i in selected.columns.to_list():\n",
    "        product_dict[i]=dct[i]\n",
    "        product_dict[i].iloc[30:,0]=selected[i]\n",
    "\n",
    "    results_path='/Volumes/DPBABIN/EXP361-U1474/'+section+'/New XRF data/'\n",
    "    os.mkdir(results_path)\n",
    "\n",
    "    for key in product_dict:\n",
    "        product_dict[key].to_csv(results_path+key,sep='\\t')"
   ]
  },
  {
   "cell_type": "markdown",
   "metadata": {},
   "source": [
    "## U1478"
   ]
  },
  {
   "cell_type": "code",
   "execution_count": 284,
   "metadata": {},
   "outputs": [],
   "source": [
    "for section in U1478_sections: \n",
    "    core=U1478+section+'/XRF data/'\n",
    "\n",
    "    files=listdir(core)\n",
    "\n",
    "    dct={}\n",
    "    for file in files:\n",
    "        dct[file]=pd.read_csv(core+file,sep='\\t',index_col='Date:')\n",
    "\n",
    "    df=pd.DataFrame()\n",
    "    for k in dct.keys():\n",
    "        df[k]=dct[k].iloc[30:,0]\n",
    "\n",
    "    summed=df.rolling(10,center=True,axis=1).sum()\n",
    "\n",
    "    selected=summed.iloc[:,5:-5:10]\n",
    "\n",
    "    product_dict={}\n",
    "    for i in selected.columns.to_list():\n",
    "        product_dict[i]=dct[i]\n",
    "        product_dict[i].iloc[30:,0]=selected[i]\n",
    "\n",
    "    results_path='/Volumes/DPBABIN/EXP361-U1478/'+section+'/New XRF data/'\n",
    "    os.mkdir(results_path)\n",
    "\n",
    "    for key in product_dict:\n",
    "        product_dict[key].to_csv(results_path+key,sep='\\t')"
   ]
  },
  {
   "cell_type": "markdown",
   "metadata": {},
   "source": [
    "# Re-Reduction of Data in Q-Spec\n",
    "The next step was to take these files and Q-spec to turn these spectra into peak areas and elemental intensities. "
   ]
  },
  {
   "cell_type": "markdown",
   "metadata": {},
   "source": [
    "# Results"
   ]
  },
  {
   "cell_type": "code",
   "execution_count": 1326,
   "metadata": {},
   "outputs": [],
   "source": [
    "data_path='/Users/danielbabin/Documents/GitHub/XRF_Data_Report/Data/'"
   ]
  },
  {
   "cell_type": "markdown",
   "metadata": {},
   "source": [
    "## Import Core Depth and Identification Details\n",
    "I'll need this information to turn individual core positions from the XRF scanner into total core depths and piece together the splice. "
   ]
  },
  {
   "cell_type": "code",
   "execution_count": 1060,
   "metadata": {},
   "outputs": [],
   "source": [
    "splice=pd.read_csv(data_path+'splicedetail_24_9_2018.csv').iloc[0:57]\n",
    "splice['CoreLabel']=(splice['Site']+splice['Hole']+'_'+splice['Core'].map(str))\n",
    "\n",
    "section_list=pd.read_csv(data_path+'Section Summary_11_11_2019.csv')\n",
    "section_list['SectionLabel']=(section_list['Site']+section_list['Hole']+'_'+\n",
    "                              section_list['Core'].map(str)+section_list['Type']+section_list['Sect'].map(str))\n",
    "section_list.rename(columns={'Top depth CCSF-361-U1474-ABDEF-20160220 (m)':'Top Depth CCSF (m)',\n",
    "                            'Bottom depth CCSF-361-U1474-ABDEF-20160220 (m)':'Bottom Depth CCSF (m)'},inplace=True)"
   ]
  },
  {
   "cell_type": "markdown",
   "metadata": {},
   "source": [
    "## Retrieve Data from Hardrive\n",
    "Within this loop, I've also added section identifiers and top and bottom depths for each core. It's easy to do at this step because each dataframe is still only associated with one section. "
   ]
  },
  {
   "cell_type": "code",
   "execution_count": 1062,
   "metadata": {},
   "outputs": [],
   "source": [
    "dct={}\n",
    "for i,section in enumerate(U1474_sections): \n",
    "    core=U1474+section+'/'\n",
    "\n",
    "    dct[section]=pd.read_csv(core+'Results.txt',sep='\\t',header=2)\n",
    "    dct[section]['Section']=section[4:]\n",
    "    dct[section]['Core']=section[4:-2]\n",
    "    \n",
    "    t=section_list[section_list.SectionLabel==section[4:]]['Top Depth CCSF (m)']\n",
    "    b=section_list[section_list.SectionLabel==section[4:]]['Bottom Depth CCSF (m)']\n",
    "    \n",
    "    dct[section]['Top Depth CCSF (m)']=float(t)\n",
    "    dct[section]['Bottom Depth CCSF (m)']=float(b)"
   ]
  },
  {
   "cell_type": "markdown",
   "metadata": {},
   "source": [
    "## Concatenate Results into one DataFrame\n",
    "I've also dropped the final measurement frome each section because usually the counts are low, due to low counts at the air at the end of the core."
   ]
  },
  {
   "cell_type": "code",
   "execution_count": 1063,
   "metadata": {},
   "outputs": [],
   "source": [
    "results=pd.DataFrame()\n",
    "for section in U1474_sections:\n",
    "    results=results.append(dct[section].iloc[:-1],sort=False)\n",
    "nds=np.arange(len(results))\n",
    "results['#']=nds\n",
    "results=results.set_index('#')"
   ]
  },
  {
   "cell_type": "markdown",
   "metadata": {},
   "source": [
    "## Turn \"Position\" into CCSF Depth"
   ]
  },
  {
   "cell_type": "code",
   "execution_count": 1064,
   "metadata": {},
   "outputs": [],
   "source": [
    "results['Depth CCSF (m)']=results['position (mm)']/1000+results['Top Depth CCSF (m)']"
   ]
  },
  {
   "cell_type": "markdown",
   "metadata": {},
   "source": [
    "## Select the Splice"
   ]
  },
  {
   "cell_type": "code",
   "execution_count": 1065,
   "metadata": {},
   "outputs": [],
   "source": [
    "for i,core in enumerate(splice.CoreLabel):\n",
    "    deeper=results.loc[results['Core']==core,'Depth CCSF (m)']>splice.loc[i,'Top depth CCSF (m)']\n",
    "    shallower=results.loc[results['Core']==core,'Depth CCSF (m)']<splice.loc[i,'Bottom depth CCSF (m)']\n",
    "    results.loc[results['Core']==core,'In Splice']=deeper&shallower"
   ]
  },
  {
   "cell_type": "code",
   "execution_count": 1327,
   "metadata": {},
   "outputs": [
    {
     "data": {
      "text/plain": [
       "<matplotlib.axes._subplots.AxesSubplot at 0x186f0c898>"
      ]
     },
     "execution_count": 1327,
     "metadata": {},
     "output_type": "execute_result"
    },
    {
     "data": {
      "image/png": "[encoded data removed]",
      "text/plain": [
       "<Figure size 432x288 with 1 Axes>"
      ]
     },
     "metadata": {},
     "output_type": "display_data"
    }
   ],
   "source": [
    "fig,ax=plt.subplots()\n",
    "results[results['In Splice']==True].plot(x='Depth CCSF (m)',y='Si',ax=ax)"
   ]
  },
  {
   "cell_type": "markdown",
   "metadata": {},
   "source": [
    "# Final Cleaning\n",
    "## Select important columns"
   ]
  },
  {
   "cell_type": "code",
   "execution_count": 1067,
   "metadata": {},
   "outputs": [],
   "source": [
    "col_list=results.columns[:80].to_list()+results.columns[-2:].to_list()"
   ]
  },
  {
   "cell_type": "code",
   "execution_count": 1107,
   "metadata": {},
   "outputs": [],
   "source": [
    "results['Depth CCSF (m)']=round(results['Depth CCSF (m)'].astype(float),2)\n",
    "final=results[results['In Splice']==True][col_list].set_index('Depth CCSF (m)')"
   ]
  },
  {
   "cell_type": "markdown",
   "metadata": {},
   "source": [
    "## Set Thresholds and Drop Cracks and Burps\n",
    "Of some 10000 rows, 38 rows from 15 groups were dropped due to extreme outliers in the ratios."
   ]
  },
  {
   "cell_type": "code",
   "execution_count": 1321,
   "metadata": {},
   "outputs": [],
   "source": [
    "no_zero=final[final['Al']>400]\n",
    "no_zero=no_zero[(no_zero[['Al','Si','K','Ca','Ti','Fe']] != 0).all(1)]\n",
    "no_zero.drop([20.46,20.48,\n",
    "              41.84,41.86,\n",
    "              83.63,83.65,83.67,83.69,\n",
    "              84.09,84.11,\n",
    "              85.79,83.71,\n",
    "              118.42,118.44,118.46,\n",
    "              123.78,\n",
    "              127.52,127.54,127.56,\n",
    "              153.12,153.14,\n",
    "              174.95,\n",
    "              198.16,198.18,198.20,\n",
    "              216.02,216.04,216.06,216.08,216.10,216.12,216.14,216.16,\n",
    "              191.77,191.79,\n",
    "              227.51,227.53,\n",
    "              249.36],inplace=True)"
   ]
  },
  {
   "cell_type": "markdown",
   "metadata": {},
   "source": [
    "# Export"
   ]
  },
  {
   "cell_type": "code",
   "execution_count": 1323,
   "metadata": {},
   "outputs": [],
   "source": [
    "export=no_zero"
   ]
  },
  {
   "cell_type": "code",
   "execution_count": 1324,
   "metadata": {},
   "outputs": [],
   "source": [
    "results_path='/Users/danielbabin/Documents/GitHub/XRF_Data_Report/Data/'\n",
    "export.to_csv(results_path+'integrated_xrf_data_raw.csv')"
   ]
  }
 ],
 "metadata": {
  "kernelspec": {
   "display_name": "Python 3",
   "language": "python",
   "name": "python3"
  },
  "language_info": {
   "codemirror_mode": {
    "name": "ipython",
    "version": 3
   },
   "file_extension": ".py",
   "mimetype": "text/x-python",
   "name": "python",
   "nbconvert_exporter": "python",
   "pygments_lexer": "ipython3",
   "version": "3.6.5"
  }
 },
 "nbformat": 4,
 "nbformat_minor": 2
}
