{
 "cells": [
  {
   "cell_type": "code",
   "execution_count": 441,
   "metadata": {},
   "outputs": [],
   "source": [
    "import pandas as pd\n",
    "import numpy as np\n",
    "import matplotlib.pyplot as plt\n",
    "from os import listdir\n",
    "import os"
   ]
  },
  {
   "cell_type": "code",
   "execution_count": 445,
   "metadata": {},
   "outputs": [],
   "source": [
    "U1474='/Volumes/DPBABIN/EXP361-U1474/'\n",
    "U1478='/Volumes/DPBABIN/EXP361-U1478/'"
   ]
  },
  {
   "cell_type": "code",
   "execution_count": 504,
   "metadata": {},
   "outputs": [],
   "source": [
    "U1474_sections=listdir(U1474)\n",
    "U1474_sections.sort()\n",
    "U1478_sections=listdir(U1478)"
   ]
  },
  {
   "cell_type": "code",
   "execution_count": 493,
   "metadata": {},
   "outputs": [],
   "source": [
    "files=listdir(core)"
   ]
  },
  {
   "cell_type": "code",
   "execution_count": 411,
   "metadata": {},
   "outputs": [],
   "source": [
    "dct={}\n",
    "for file in files:\n",
    "#     dct[file]=pd.read_csv(core+file,sep='\\t',index_col='Date:')\n",
    "    dct[file]=pd.read_csv(core+file,sep='\\t',index_col='Date:')"
   ]
  },
  {
   "cell_type": "code",
   "execution_count": 235,
   "metadata": {},
   "outputs": [],
   "source": [
    "df=pd.DataFrame()\n",
    "for k in dct.keys():\n",
    "    df[k]=dct[k].loc['1':,'12/07/2016']\n",
    "# df=df.transpose()"
   ]
  },
  {
   "cell_type": "code",
   "execution_count": 237,
   "metadata": {},
   "outputs": [],
   "source": [
    "summed=df.rolling(10,center=True,axis=1).sum()"
   ]
  },
  {
   "cell_type": "code",
   "execution_count": 239,
   "metadata": {},
   "outputs": [
    {
     "data": {
      "image/png": "[encoded data removed]",
      "text/plain": [
       "<Figure size 432x288 with 1 Axes>"
      ]
     },
     "metadata": {},
     "output_type": "display_data"
    }
   ],
   "source": [
    "fig,ax=plt.subplots()\n",
    "summed['L000005.spe'].plot(ax=ax)\n",
    "df['L000005.spe'].astype(int).plot(ax=ax)\n",
    "ax.set_yscale('log')"
   ]
  },
  {
   "cell_type": "code",
   "execution_count": 240,
   "metadata": {},
   "outputs": [],
   "source": [
    "selected=summed.iloc[:,5:-5:10]"
   ]
  },
  {
   "cell_type": "code",
   "execution_count": 241,
   "metadata": {},
   "outputs": [],
   "source": [
    "product_dict={}\n",
    "for i in selected.columns.to_list():\n",
    "    product_dict[i]=dct[i]\n",
    "    product_dict[i].loc['1':,'12/07/2016']=selected[i]"
   ]
  },
  {
   "cell_type": "code",
   "execution_count": 257,
   "metadata": {},
   "outputs": [],
   "source": [
    "results_path='/Volumes/DPBABIN/EXP361-U1474/'+U1474_sections[0]+'/New XRF data/'\n",
    "os.mkdir(results_path)"
   ]
  },
  {
   "cell_type": "code",
   "execution_count": 250,
   "metadata": {},
   "outputs": [],
   "source": [
    "results_path='/Volumes/DPBABIN/EXP361-U1474/'+U1474_sections[0]+'/New XRF data/'"
   ]
  },
  {
   "cell_type": "code",
   "execution_count": 258,
   "metadata": {},
   "outputs": [],
   "source": [
    "for key in product_dict:\n",
    "    product_dict[key].to_csv(results_path+key,sep='\\t')"
   ]
  },
  {
   "cell_type": "code",
   "execution_count": 268,
   "metadata": {},
   "outputs": [],
   "source": [
    "section=U1474_sections[8]"
   ]
  },
  {
   "cell_type": "code",
   "execution_count": 282,
   "metadata": {},
   "outputs": [],
   "source": [
    "core=U1474+section+'/XRF data/'\n",
    "\n",
    "files=listdir(core)\n",
    "\n",
    "dct={}\n",
    "for file in files:\n",
    "    dct[file]=pd.read_csv(core+file,sep='\\t',index_col='Date:')\n",
    "\n",
    "df=pd.DataFrame()\n",
    "for k in dct.keys():\n",
    "    df[k]=dct[k].iloc[30:,0]\n",
    "\n",
    "summed=df.rolling(10,center=True,axis=1).sum()\n",
    "\n",
    "selected=summed.iloc[:,5:-5:10]\n",
    "\n",
    "product_dict={}\n",
    "for i in selected.columns.to_list():\n",
    "    product_dict[i]=dct[i]\n",
    "    product_dict[i].iloc[30:,0]=selected[i]\n",
    "\n",
    "results_path='/Volumes/DPBABIN/EXP361-U1474/'+section+'/New XRF data/'\n",
    "os.mkdir(results_path)\n",
    "\n",
    "for key in product_dict:\n",
    "    product_dict[key].to_csv(results_path+key,sep='\\t')"
   ]
  },
  {
   "cell_type": "code",
   "execution_count": 283,
   "metadata": {},
   "outputs": [],
   "source": [
    "for section in U1474_sections: \n",
    "    core=U1474+section+'/XRF data/'\n",
    "\n",
    "    files=listdir(core)\n",
    "\n",
    "    dct={}\n",
    "    for file in files:\n",
    "        dct[file]=pd.read_csv(core+file,sep='\\t',index_col='Date:')\n",
    "\n",
    "    df=pd.DataFrame()\n",
    "    for k in dct.keys():\n",
    "        df[k]=dct[k].iloc[30:,0]\n",
    "\n",
    "    summed=df.rolling(10,center=True,axis=1).sum()\n",
    "\n",
    "    selected=summed.iloc[:,5:-5:10]\n",
    "\n",
    "    product_dict={}\n",
    "    for i in selected.columns.to_list():\n",
    "        product_dict[i]=dct[i]\n",
    "        product_dict[i].iloc[30:,0]=selected[i]\n",
    "\n",
    "    results_path='/Volumes/DPBABIN/EXP361-U1474/'+section+'/New XRF data/'\n",
    "    os.mkdir(results_path)\n",
    "\n",
    "    for key in product_dict:\n",
    "        product_dict[key].to_csv(results_path+key,sep='\\t')"
   ]
  },
  {
   "cell_type": "code",
   "execution_count": 284,
   "metadata": {},
   "outputs": [],
   "source": [
    "for section in U1478_sections: \n",
    "    core=U1478+section+'/XRF data/'\n",
    "\n",
    "    files=listdir(core)\n",
    "\n",
    "    dct={}\n",
    "    for file in files:\n",
    "        dct[file]=pd.read_csv(core+file,sep='\\t',index_col='Date:')\n",
    "\n",
    "    df=pd.DataFrame()\n",
    "    for k in dct.keys():\n",
    "        df[k]=dct[k].iloc[30:,0]\n",
    "\n",
    "    summed=df.rolling(10,center=True,axis=1).sum()\n",
    "\n",
    "    selected=summed.iloc[:,5:-5:10]\n",
    "\n",
    "    product_dict={}\n",
    "    for i in selected.columns.to_list():\n",
    "        product_dict[i]=dct[i]\n",
    "        product_dict[i].iloc[30:,0]=selected[i]\n",
    "\n",
    "    results_path='/Volumes/DPBABIN/EXP361-U1478/'+section+'/New XRF data/'\n",
    "    os.mkdir(results_path)\n",
    "\n",
    "    for key in product_dict:\n",
    "        product_dict[key].to_csv(results_path+key,sep='\\t')"
   ]
  },
  {
   "cell_type": "markdown",
   "metadata": {},
   "source": [
    "## Retrieving Results"
   ]
  },
  {
   "cell_type": "code",
   "execution_count": 495,
   "metadata": {},
   "outputs": [],
   "source": [
    "splice=pd.read_csv('/Users/danielbabin/Documents/LamontColumbia/U1474_Paper/Data/splicedetail_24_9_2018.csv').iloc[0:57]\n",
    "splice['Section']=(splice['Site']+splice['Hole']+'_'+splice['Core'].map(str))"
   ]
  },
  {
   "cell_type": "code",
   "execution_count": 508,
   "metadata": {},
   "outputs": [],
   "source": [
    "dct={}\n",
    "for section in U1474_sections: \n",
    "    core=U1474+section+'/'\n",
    "\n",
    "    dct[section]=pd.read_csv(core+'Results.txt',sep='\\t',header=2)\n",
    "    dct[section]['Section']=section[4:]\n",
    "    dct[section]['Core']=section[4:-2]\n",
    "    \n",
    "    t=splice[splice.Section==section[4:-2]]['Top depth CCSF (m)']\n",
    "    b=splice[splice.Section==section[4:-2]]['Bottom depth CCSF (m)']\n",
    "    \n",
    "    dct[section]['Top depth CCSF (m)']=float(t)\n",
    "    dct[section]['Bottom depth CCSF (m)']=float(b)\n",
    "\n",
    "#     df=pd.DataFrame()\n",
    "#     for k in dct.keys():\n",
    "#         df[k]=dct[k].iloc[30:,0]\n",
    "\n",
    "#     summed=df.rolling(10,center=True,axis=1).sum()\n",
    "\n",
    "#     selected=summed.iloc[:,5:-5:10]\n",
    "\n",
    "#     product_dict={}\n",
    "#     for i in selected.columns.to_list():\n",
    "#         product_dict[i]=dct[i]\n",
    "#         product_dict[i].iloc[30:,0]=selected[i]\n",
    "\n",
    "#     results_path='/Volumes/DPBABIN/EXP361-U1474/'+section+'/New XRF data/'\n",
    "#     os.mkdir(results_path)\n",
    "\n",
    "#     for key in product_dict:\n",
    "#         product_dict[key].to_csv(results_path+key,sep='\\t')"
   ]
  },
  {
   "cell_type": "code",
   "execution_count": 509,
   "metadata": {},
   "outputs": [],
   "source": [
    "results=pd.DataFrame()\n",
    "for section in U1474_sections:\n",
    "    results=results.append(dct[section],sort=False)\n",
    "nds=np.arange(len(results))\n",
    "results['#']=nds\n",
    "results=results.set_index('#')"
   ]
  },
  {
   "cell_type": "code",
   "execution_count": 511,
   "metadata": {},
   "outputs": [
    {
     "data": {
      "text/plain": [
       "<matplotlib.axes._subplots.AxesSubplot at 0x11e78f198>"
      ]
     },
     "execution_count": 511,
     "metadata": {},
     "output_type": "execute_result"
    },
    {
     "data": {
      "image/png": "[encoded data removed]",
      "text/plain": [
       "<Figure size 432x288 with 1 Axes>"
      ]
     },
     "metadata": {},
     "output_type": "display_data"
    }
   ],
   "source": [
    "# for i in splice['Section']:\n",
    "results[results['Core']==splice['Section'][0]]['position (mm)'].plot()"
   ]
  },
  {
   "cell_type": "code",
   "execution_count": null,
   "metadata": {},
   "outputs": [],
   "source": []
  }
 ],
 "metadata": {
  "kernelspec": {
   "display_name": "Python 3",
   "language": "python",
   "name": "python3"
  },
  "language_info": {
   "codemirror_mode": {
    "name": "ipython",
    "version": 3
   },
   "file_extension": ".py",
   "mimetype": "text/x-python",
   "name": "python",
   "nbconvert_exporter": "python",
   "pygments_lexer": "ipython3",
   "version": "3.6.5"
  }
 },
 "nbformat": 4,
 "nbformat_minor": 2
}
